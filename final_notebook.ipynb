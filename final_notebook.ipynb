{
 "cells": [
  {
   "cell_type": "markdown",
   "metadata": {},
   "source": [
    "### Importing the necessary libraries"
   ]
  },
  {
   "cell_type": "code",
   "execution_count": 39,
   "metadata": {},
   "outputs": [],
   "source": [
    "from bs4 import BeautifulSoup as bs\n",
    "import requests\n",
    "import pandas as pd \n",
    "import numpy as np\n",
    "import json"
   ]
  },
  {
   "cell_type": "markdown",
   "metadata": {},
   "source": [
    "#### Defining the url from where the data is to be scrapped"
   ]
  },
  {
   "cell_type": "code",
   "execution_count": 2,
   "metadata": {},
   "outputs": [],
   "source": [
    "url = \"https://www.daft.ie\"\n",
    "\n",
    "rent_url = 'https://www.daft.ie/property-for-rent/ireland'"
   ]
  },
  {
   "cell_type": "markdown",
   "metadata": {},
   "source": [
    "#### Defining 'Headers'\n",
    "\n",
    "For this you should first find your user agent which needs to be passed as a parameter for defining the headers. To find your user agent, go to 'https://www.whatismybrowser.com/detect/', under 'Detect Web Browser', you'll find 'What is my user agent?'. You have to copy that user agent of yours and pass it as a value against 'User-Agent' parameter in the below code snippet."
   ]
  },
  {
   "cell_type": "code",
   "execution_count": 4,
   "metadata": {},
   "outputs": [],
   "source": [
    "header = {'User-Agent':'Mozilla/5.0 (Windows NT 10.0; Win64; x64) AppleWebKit/537.36 (KHTML, like Gecko) Chrome/127.0.0.0 Safari/537.36', 'Accept-Language': 'en-US', 'en':'q=0.5'}\n"
   ]
  },
  {
   "cell_type": "markdown",
   "metadata": {},
   "source": [
    "#### Defining the http request"
   ]
  },
  {
   "cell_type": "code",
   "execution_count": 10,
   "metadata": {},
   "outputs": [],
   "source": [
    "webpage = requests.get(rent_url,headers = header)"
   ]
  },
  {
   "cell_type": "markdown",
   "metadata": {},
   "source": [
    "Print the response code:"
   ]
  },
  {
   "cell_type": "code",
   "execution_count": 11,
   "metadata": {},
   "outputs": [
    {
     "data": {
      "text/plain": [
       "<Response [200]>"
      ]
     },
     "execution_count": 11,
     "metadata": {},
     "output_type": "execute_result"
    }
   ],
   "source": [
    "webpage"
   ]
  },
  {
   "cell_type": "markdown",
   "metadata": {},
   "source": [
    "#### Fetch all the html data of the website from where data is to be scrapped"
   ]
  },
  {
   "cell_type": "code",
   "execution_count": 13,
   "metadata": {},
   "outputs": [],
   "source": [
    "soup = bs(webpage.content, \"html.parser\")"
   ]
  },
  {
   "cell_type": "markdown",
   "metadata": {},
   "source": [
    "Now that we have fetched all the html data, we need to extract all the links (anchor tags) from this data"
   ]
  },
  {
   "cell_type": "code",
   "execution_count": 14,
   "metadata": {},
   "outputs": [],
   "source": [
    "links = soup.find_all(\"a\",attrs={'class':'SearchPagestyled__StyledA-sc-az4xxz-16 clQvUb'})"
   ]
  },
  {
   "cell_type": "markdown",
   "metadata": {},
   "source": [
    "Now we'll be storing all these links in a list. So let's define an empty list to do the same:"
   ]
  },
  {
   "cell_type": "code",
   "execution_count": 15,
   "metadata": {},
   "outputs": [],
   "source": [
    "links_list = []"
   ]
  },
  {
   "cell_type": "markdown",
   "metadata": {},
   "source": [
    "Loop for extracting the links from from the html tag objects"
   ]
  },
  {
   "cell_type": "code",
   "execution_count": 18,
   "metadata": {},
   "outputs": [],
   "source": [
    "for link in links:\n",
    "    links_list.append(link.get('href'))"
   ]
  },
  {
   "cell_type": "markdown",
   "metadata": {},
   "source": [
    "We'll be storing all the property data in a dictionary. So let's define the dictionary structure:"
   ]
  },
  {
   "cell_type": "code",
   "execution_count": 37,
   "metadata": {},
   "outputs": [],
   "source": [
    "d = {\"title\":[],\"description\":[],\"property_facilities\":[],\"statistics\":[],\"daft_id\":[]}"
   ]
  },
  {
   "cell_type": "markdown",
   "metadata": {},
   "source": [
    "#### Now let's define the functions to extract property details from each property listing url:"
   ]
  },
  {
   "cell_type": "markdown",
   "metadata": {},
   "source": [
    "i) Function for extracting property name"
   ]
  },
  {
   "cell_type": "code",
   "execution_count": 27,
   "metadata": {},
   "outputs": [],
   "source": [
    "\n",
    "def get_title(soup):\n",
    "\n",
    "    try:\n",
    "        title = soup.find(\"h1\",attrs={'data-testid':'alt-title'}).text.strip()\n",
    "\n",
    "    except AttributeError:\n",
    "        title = \"\"\n",
    "    \n",
    "    return title"
   ]
  },
  {
   "cell_type": "markdown",
   "metadata": {},
   "source": [
    "ii) Function for extracting property description"
   ]
  },
  {
   "cell_type": "code",
   "execution_count": 28,
   "metadata": {},
   "outputs": [],
   "source": [
    "def get_description(soup):\n",
    "\n",
    "    try:\n",
    "        desc = soup.find(\"div\",attrs={'data-testid':'alt-info'}).text.strip()\n",
    "\n",
    "    except AttributeError:\n",
    "        desc = \"\"\n",
    "    \n",
    "    return desc"
   ]
  },
  {
   "cell_type": "markdown",
   "metadata": {},
   "source": [
    "iii) Function for extracting property facilites"
   ]
  },
  {
   "cell_type": "code",
   "execution_count": 32,
   "metadata": {},
   "outputs": [],
   "source": [
    "def get_facilities(soup):\n",
    "\n",
    "    try:\n",
    "        property_facilities = soup.find(\"div\",attrs={'data-testid':'facilities'}).find(\"ul\",attrs={'class':'PropertyDetailsList__PropertyDetailsListContainer-sc-v5wteg-0 fLOYJA'}).text\n",
    "\n",
    "    except AttributeError:\n",
    "        property_facilities = \"\"\n",
    "    \n",
    "    return property_facilities"
   ]
  },
  {
   "cell_type": "markdown",
   "metadata": {},
   "source": [
    "iv) Function for extracting statistics like date and property views"
   ]
  },
  {
   "cell_type": "code",
   "execution_count": 34,
   "metadata": {},
   "outputs": [],
   "source": [
    "def get_statistics(soup):\n",
    "\n",
    "    try:\n",
    "        statistics = soup.find(\"div\",attrs={'class':'Statistics__MainContainer-sc-49r9ge-4 khRNKJ'}).text\n",
    "\n",
    "    except AttributeError:\n",
    "        statistics = \"\"\n",
    "    \n",
    "    return statistics"
   ]
  },
  {
   "cell_type": "markdown",
   "metadata": {},
   "source": [
    "v) Function for extracting the Daft ID"
   ]
  },
  {
   "cell_type": "code",
   "execution_count": 33,
   "metadata": {},
   "outputs": [],
   "source": [
    "def get_id(soup):\n",
    "\n",
    "    try:\n",
    "        daft_id = soup.find(\"p\",attrs={'class':'DaftIDText__StyledDaftIDParagraph-sc-4tzyji-0 kdpQoe'}).text.strip()\n",
    "\n",
    "    except AttributeError:\n",
    "        daft_id = \"\"\n",
    "\n",
    "    return daft_id\n"
   ]
  },
  {
   "cell_type": "markdown",
   "metadata": {},
   "source": [
    "Loop for extracting property listings from each link"
   ]
  },
  {
   "cell_type": "code",
   "execution_count": 42,
   "metadata": {},
   "outputs": [],
   "source": [
    "for link in links_list:\n",
    "    new_webpage = requests.get(url + link,headers = header)\n",
    "\n",
    "    new_soup = bs(new_webpage.content, \"html.parser\")\n",
    "\n",
    "    # Now let us call all the above the functions to fetch the required details accordingly against each of the parameters\n",
    "    d['title'].append(get_title(new_soup))\n",
    "    d['description'].append(get_description(new_soup))\n",
    "    d['property_facilities'].append(get_facilities(new_soup))\n",
    "    d['statistics'].append(get_statistics(new_soup))\n",
    "    d['daft_id'].append(get_id(new_soup))"
   ]
  },
  {
   "cell_type": "code",
   "execution_count": 43,
   "metadata": {},
   "outputs": [],
   "source": [
    "daft_df = pd.DataFrame.from_dict(d)\n",
    "daft_df['title'].replace('',np.nan, inplace=True)\n",
    "daft_df = daft_df.dropna(subset=['title'])\n",
    "\n"
   ]
  },
  {
   "cell_type": "code",
   "execution_count": 53,
   "metadata": {},
   "outputs": [],
   "source": [
    "daft_df.to_csv(\"daft.csv\",header=True , index=False)"
   ]
  },
  {
   "cell_type": "code",
   "execution_count": 44,
   "metadata": {},
   "outputs": [
    {
     "data": {
      "text/html": [
       "<div>\n",
       "<style scoped>\n",
       "    .dataframe tbody tr th:only-of-type {\n",
       "        vertical-align: middle;\n",
       "    }\n",
       "\n",
       "    .dataframe tbody tr th {\n",
       "        vertical-align: top;\n",
       "    }\n",
       "\n",
       "    .dataframe thead th {\n",
       "        text-align: right;\n",
       "    }\n",
       "</style>\n",
       "<table border=\"1\" class=\"dataframe\">\n",
       "  <thead>\n",
       "    <tr style=\"text-align: right;\">\n",
       "      <th></th>\n",
       "      <th>title</th>\n",
       "      <th>description</th>\n",
       "      <th>property_facilities</th>\n",
       "      <th>statistics</th>\n",
       "      <th>daft_id</th>\n",
       "    </tr>\n",
       "  </thead>\n",
       "  <tbody>\n",
       "    <tr>\n",
       "      <th>0</th>\n",
       "      <td>The Cornerstone, Lower Kilmacud Road, Stillorg...</td>\n",
       "      <td>3 Property TypesFrom €2,050 per monthNew Devel...</td>\n",
       "      <td>ParkingCentral HeatingWashing MachineDryerDish...</td>\n",
       "      <td>22/08/2024Entered/Renewed28,619Property Views</td>\n",
       "      <td>Daft ID: 919264787</td>\n",
       "    </tr>\n",
       "    <tr>\n",
       "      <th>1</th>\n",
       "      <td>Cathedral Court, Unit 6 New Street South, Dubl...</td>\n",
       "      <td>1 Property TypesFrom €5,000 per monthNew Devel...</td>\n",
       "      <td>ParkingAlarmCable TelevisionWashing MachineDry...</td>\n",
       "      <td>24/08/2024Entered/Renewed124,010Property Views</td>\n",
       "      <td>Daft ID: 93894824</td>\n",
       "    </tr>\n",
       "    <tr>\n",
       "      <th>2</th>\n",
       "      <td>Occu East Village, Leopardstown, Dublin 18, Cl...</td>\n",
       "      <td>1 Property TypesFrom €2,150 per monthNew Devel...</td>\n",
       "      <td>ParkingCentral HeatingWashing MachineDryerDish...</td>\n",
       "      <td>24/08/2024Entered/Renewed84,179Property Views</td>\n",
       "      <td>Daft ID: 916999292</td>\n",
       "    </tr>\n",
       "    <tr>\n",
       "      <th>3</th>\n",
       "      <td>Niche Living, Private Studios, ALL Bills INCL,...</td>\n",
       "      <td>2 Property TypesFrom €1,895 per monthNew Devel...</td>\n",
       "      <td>Central HeatingAlarmCable TelevisionWashing Ma...</td>\n",
       "      <td>24/08/2024Entered/Renewed22,093Property Views</td>\n",
       "      <td>Daft ID: 919485611</td>\n",
       "    </tr>\n",
       "    <tr>\n",
       "      <th>4</th>\n",
       "      <td>Quayside Quarter, Dublin Landings, North Wall ...</td>\n",
       "      <td>4 Property TypesFrom €2,630 per monthNew Devel...</td>\n",
       "      <td>ParkingCentral HeatingCable TelevisionWashing ...</td>\n",
       "      <td>24/08/2024Entered/Renewed1,445,824Property Views</td>\n",
       "      <td>Daft ID: 9162471</td>\n",
       "    </tr>\n",
       "    <tr>\n",
       "      <th>5</th>\n",
       "      <td>Newmarket Yards, Dublin 2</td>\n",
       "      <td>4 Property TypesFrom €2,400 per monthNew Devel...</td>\n",
       "      <td>Central HeatingCable TelevisionWashing Machine...</td>\n",
       "      <td>24/08/2024Entered/Renewed84,336Property Views</td>\n",
       "      <td>Daft ID: 918778912</td>\n",
       "    </tr>\n",
       "    <tr>\n",
       "      <th>6</th>\n",
       "      <td>Balroy Hall, Carpenterstown Road, Castleknock,...</td>\n",
       "      <td>3 Property TypesFrom €1,950 per monthNew Devel...</td>\n",
       "      <td>ParkingCentral HeatingCable TelevisionWashing ...</td>\n",
       "      <td>24/08/2024Entered/Renewed25,291Property Views</td>\n",
       "      <td>Daft ID: 919734883</td>\n",
       "    </tr>\n",
       "    <tr>\n",
       "      <th>7</th>\n",
       "      <td>St Edmunds Avenue , St Edmunds Avenue , Lucan,...</td>\n",
       "      <td>2 Property TypesFrom €2,000 per monthNew Devel...</td>\n",
       "      <td>Central HeatingCable TelevisionWashing Machine...</td>\n",
       "      <td>24/08/2024Entered/Renewed288,139Property Views</td>\n",
       "      <td>Daft ID: 914808034</td>\n",
       "    </tr>\n",
       "    <tr>\n",
       "      <th>8</th>\n",
       "      <td>One Lime Street, Docklands, Dublin 2</td>\n",
       "      <td>2 Property TypesFrom €2,500 per monthNew Devel...</td>\n",
       "      <td>Washing MachineDryerDishwasherMicrowavePets Al...</td>\n",
       "      <td>24/08/2024Entered/Renewed138,554Property Views</td>\n",
       "      <td>Daft ID: 915355502</td>\n",
       "    </tr>\n",
       "    <tr>\n",
       "      <th>9</th>\n",
       "      <td>Green Acre Grange , Upper Kilmacud Road , Dund...</td>\n",
       "      <td>3 Property TypesFrom €2,050 per monthNew Devel...</td>\n",
       "      <td>ParkingCentral HeatingAlarmCable TelevisionWas...</td>\n",
       "      <td>24/08/2024Entered/Renewed121,908Property Views</td>\n",
       "      <td>Daft ID: 918643399</td>\n",
       "    </tr>\n",
       "    <tr>\n",
       "      <th>10</th>\n",
       "      <td>Brickfield Square , Brickfield Drive, Dublin 12</td>\n",
       "      <td>2 Property TypesFrom €2,351 per monthNew Devel...</td>\n",
       "      <td>ParkingWashing MachineDryerDishwasherMicrowave...</td>\n",
       "      <td>24/08/2024Entered/Renewed10,893Property Views</td>\n",
       "      <td>Daft ID: 919536766</td>\n",
       "    </tr>\n",
       "    <tr>\n",
       "      <th>11</th>\n",
       "      <td>Barnoaks, The Green, Citywest, Co. Dublin</td>\n",
       "      <td>4 Property TypesFrom €1,800 per monthNew Devel...</td>\n",
       "      <td>Central HeatingWashing MachineDryerMicrowavePe...</td>\n",
       "      <td>24/08/2024Entered/Renewed77,204Property Views</td>\n",
       "      <td>Daft ID: 918782790</td>\n",
       "    </tr>\n",
       "    <tr>\n",
       "      <th>12</th>\n",
       "      <td>Grand Canal Harbour, Grand Canal Place, Dublin 8</td>\n",
       "      <td>3 Property TypesFrom €2,050 per monthNew Devel...</td>\n",
       "      <td>ParkingCentral HeatingCable TelevisionWashing ...</td>\n",
       "      <td>24/08/2024Entered/Renewed66,130Property Views</td>\n",
       "      <td>Daft ID: 918980690</td>\n",
       "    </tr>\n",
       "    <tr>\n",
       "      <th>13</th>\n",
       "      <td>Niche Living, Private Studios, ALL Bills INCL,...</td>\n",
       "      <td>2 Property TypesFrom €1,895 per monthNew Devel...</td>\n",
       "      <td>Central HeatingAlarmCable TelevisionWashing Ma...</td>\n",
       "      <td>24/08/2024Entered/Renewed217,252Property Views</td>\n",
       "      <td>Daft ID: 914660532</td>\n",
       "    </tr>\n",
       "    <tr>\n",
       "      <th>14</th>\n",
       "      <td>Seafield Strand, Greenfield Road, Sutton, Dubl...</td>\n",
       "      <td>3 Property TypesFrom €2,500 per monthNew Devel...</td>\n",
       "      <td>ParkingCable TelevisionWashing MachineDryerDis...</td>\n",
       "      <td>23/08/2024Entered/Renewed51,216Property Views</td>\n",
       "      <td>Daft ID: 917613259</td>\n",
       "    </tr>\n",
       "    <tr>\n",
       "      <th>15</th>\n",
       "      <td>8th Lock , Ratoath Road, Ashtown , Dublin 11</td>\n",
       "      <td>2 Property TypesFrom €1,900 per monthNew Devel...</td>\n",
       "      <td>ParkingCentral HeatingCable TelevisionWashing ...</td>\n",
       "      <td>23/08/2024Entered/Renewed53,210Property Views</td>\n",
       "      <td>Daft ID: 916696045</td>\n",
       "    </tr>\n",
       "    <tr>\n",
       "      <th>16</th>\n",
       "      <td>Station View , The Crossings , Adamstown, Co. ...</td>\n",
       "      <td>4 Property TypesFrom €1,725 per monthNew Devel...</td>\n",
       "      <td>ParkingCentral HeatingCable TelevisionWashing ...</td>\n",
       "      <td>23/08/2024Entered/Renewed87,090Property Views</td>\n",
       "      <td>Daft ID: 917138595</td>\n",
       "    </tr>\n",
       "    <tr>\n",
       "      <th>17</th>\n",
       "      <td>Capital Dock Residence, No. 2 Stevens Walk, Du...</td>\n",
       "      <td>1 Property TypesFrom €3,516 per monthNew Devel...</td>\n",
       "      <td>ParkingCentral HeatingCable TelevisionWashing ...</td>\n",
       "      <td>23/08/2024Entered/Renewed2,434,908Property Views</td>\n",
       "      <td>Daft ID: 9162025</td>\n",
       "    </tr>\n",
       "    <tr>\n",
       "      <th>18</th>\n",
       "      <td>Hali, The Hunt Building, Cherrywood, Dublin 18...</td>\n",
       "      <td>1 Property TypesFrom €2,600 per monthNew Devel...</td>\n",
       "      <td>ParkingCentral HeatingCable TelevisionWashing ...</td>\n",
       "      <td>23/08/2024Entered/Renewed177,265Property Views</td>\n",
       "      <td>Daft ID: 97315531</td>\n",
       "    </tr>\n",
       "    <tr>\n",
       "      <th>19</th>\n",
       "      <td>Hali, The Harcourt Building, Cherrywood, Dubli...</td>\n",
       "      <td>2 Property TypesFrom €2,170 per monthNew Devel...</td>\n",
       "      <td>ParkingCentral HeatingCable TelevisionWashing ...</td>\n",
       "      <td>23/08/2024Entered/Renewed56,566Property Views</td>\n",
       "      <td>Daft ID: 918130769</td>\n",
       "    </tr>\n",
       "    <tr>\n",
       "      <th>20</th>\n",
       "      <td>The Cornerstone, Lower Kilmacud Road, Stillorg...</td>\n",
       "      <td>3 Property TypesFrom €2,050 per monthNew Devel...</td>\n",
       "      <td>ParkingCentral HeatingWashing MachineDryerDish...</td>\n",
       "      <td>22/08/2024Entered/Renewed28,626Property Views</td>\n",
       "      <td>Daft ID: 919264787</td>\n",
       "    </tr>\n",
       "  </tbody>\n",
       "</table>\n",
       "</div>"
      ],
      "text/plain": [
       "                                                title  \\\n",
       "0   The Cornerstone, Lower Kilmacud Road, Stillorg...   \n",
       "1   Cathedral Court, Unit 6 New Street South, Dubl...   \n",
       "2   Occu East Village, Leopardstown, Dublin 18, Cl...   \n",
       "3   Niche Living, Private Studios, ALL Bills INCL,...   \n",
       "4   Quayside Quarter, Dublin Landings, North Wall ...   \n",
       "5                           Newmarket Yards, Dublin 2   \n",
       "6   Balroy Hall, Carpenterstown Road, Castleknock,...   \n",
       "7   St Edmunds Avenue , St Edmunds Avenue , Lucan,...   \n",
       "8                One Lime Street, Docklands, Dublin 2   \n",
       "9   Green Acre Grange , Upper Kilmacud Road , Dund...   \n",
       "10    Brickfield Square , Brickfield Drive, Dublin 12   \n",
       "11          Barnoaks, The Green, Citywest, Co. Dublin   \n",
       "12   Grand Canal Harbour, Grand Canal Place, Dublin 8   \n",
       "13  Niche Living, Private Studios, ALL Bills INCL,...   \n",
       "14  Seafield Strand, Greenfield Road, Sutton, Dubl...   \n",
       "15       8th Lock , Ratoath Road, Ashtown , Dublin 11   \n",
       "16  Station View , The Crossings , Adamstown, Co. ...   \n",
       "17  Capital Dock Residence, No. 2 Stevens Walk, Du...   \n",
       "18  Hali, The Hunt Building, Cherrywood, Dublin 18...   \n",
       "19  Hali, The Harcourt Building, Cherrywood, Dubli...   \n",
       "20  The Cornerstone, Lower Kilmacud Road, Stillorg...   \n",
       "\n",
       "                                          description  \\\n",
       "0   3 Property TypesFrom €2,050 per monthNew Devel...   \n",
       "1   1 Property TypesFrom €5,000 per monthNew Devel...   \n",
       "2   1 Property TypesFrom €2,150 per monthNew Devel...   \n",
       "3   2 Property TypesFrom €1,895 per monthNew Devel...   \n",
       "4   4 Property TypesFrom €2,630 per monthNew Devel...   \n",
       "5   4 Property TypesFrom €2,400 per monthNew Devel...   \n",
       "6   3 Property TypesFrom €1,950 per monthNew Devel...   \n",
       "7   2 Property TypesFrom €2,000 per monthNew Devel...   \n",
       "8   2 Property TypesFrom €2,500 per monthNew Devel...   \n",
       "9   3 Property TypesFrom €2,050 per monthNew Devel...   \n",
       "10  2 Property TypesFrom €2,351 per monthNew Devel...   \n",
       "11  4 Property TypesFrom €1,800 per monthNew Devel...   \n",
       "12  3 Property TypesFrom €2,050 per monthNew Devel...   \n",
       "13  2 Property TypesFrom €1,895 per monthNew Devel...   \n",
       "14  3 Property TypesFrom €2,500 per monthNew Devel...   \n",
       "15  2 Property TypesFrom €1,900 per monthNew Devel...   \n",
       "16  4 Property TypesFrom €1,725 per monthNew Devel...   \n",
       "17  1 Property TypesFrom €3,516 per monthNew Devel...   \n",
       "18  1 Property TypesFrom €2,600 per monthNew Devel...   \n",
       "19  2 Property TypesFrom €2,170 per monthNew Devel...   \n",
       "20  3 Property TypesFrom €2,050 per monthNew Devel...   \n",
       "\n",
       "                                  property_facilities  \\\n",
       "0   ParkingCentral HeatingWashing MachineDryerDish...   \n",
       "1   ParkingAlarmCable TelevisionWashing MachineDry...   \n",
       "2   ParkingCentral HeatingWashing MachineDryerDish...   \n",
       "3   Central HeatingAlarmCable TelevisionWashing Ma...   \n",
       "4   ParkingCentral HeatingCable TelevisionWashing ...   \n",
       "5   Central HeatingCable TelevisionWashing Machine...   \n",
       "6   ParkingCentral HeatingCable TelevisionWashing ...   \n",
       "7   Central HeatingCable TelevisionWashing Machine...   \n",
       "8   Washing MachineDryerDishwasherMicrowavePets Al...   \n",
       "9   ParkingCentral HeatingAlarmCable TelevisionWas...   \n",
       "10  ParkingWashing MachineDryerDishwasherMicrowave...   \n",
       "11  Central HeatingWashing MachineDryerMicrowavePe...   \n",
       "12  ParkingCentral HeatingCable TelevisionWashing ...   \n",
       "13  Central HeatingAlarmCable TelevisionWashing Ma...   \n",
       "14  ParkingCable TelevisionWashing MachineDryerDis...   \n",
       "15  ParkingCentral HeatingCable TelevisionWashing ...   \n",
       "16  ParkingCentral HeatingCable TelevisionWashing ...   \n",
       "17  ParkingCentral HeatingCable TelevisionWashing ...   \n",
       "18  ParkingCentral HeatingCable TelevisionWashing ...   \n",
       "19  ParkingCentral HeatingCable TelevisionWashing ...   \n",
       "20  ParkingCentral HeatingWashing MachineDryerDish...   \n",
       "\n",
       "                                          statistics             daft_id  \n",
       "0      22/08/2024Entered/Renewed28,619Property Views  Daft ID: 919264787  \n",
       "1     24/08/2024Entered/Renewed124,010Property Views   Daft ID: 93894824  \n",
       "2      24/08/2024Entered/Renewed84,179Property Views  Daft ID: 916999292  \n",
       "3      24/08/2024Entered/Renewed22,093Property Views  Daft ID: 919485611  \n",
       "4   24/08/2024Entered/Renewed1,445,824Property Views    Daft ID: 9162471  \n",
       "5      24/08/2024Entered/Renewed84,336Property Views  Daft ID: 918778912  \n",
       "6      24/08/2024Entered/Renewed25,291Property Views  Daft ID: 919734883  \n",
       "7     24/08/2024Entered/Renewed288,139Property Views  Daft ID: 914808034  \n",
       "8     24/08/2024Entered/Renewed138,554Property Views  Daft ID: 915355502  \n",
       "9     24/08/2024Entered/Renewed121,908Property Views  Daft ID: 918643399  \n",
       "10     24/08/2024Entered/Renewed10,893Property Views  Daft ID: 919536766  \n",
       "11     24/08/2024Entered/Renewed77,204Property Views  Daft ID: 918782790  \n",
       "12     24/08/2024Entered/Renewed66,130Property Views  Daft ID: 918980690  \n",
       "13    24/08/2024Entered/Renewed217,252Property Views  Daft ID: 914660532  \n",
       "14     23/08/2024Entered/Renewed51,216Property Views  Daft ID: 917613259  \n",
       "15     23/08/2024Entered/Renewed53,210Property Views  Daft ID: 916696045  \n",
       "16     23/08/2024Entered/Renewed87,090Property Views  Daft ID: 917138595  \n",
       "17  23/08/2024Entered/Renewed2,434,908Property Views    Daft ID: 9162025  \n",
       "18    23/08/2024Entered/Renewed177,265Property Views   Daft ID: 97315531  \n",
       "19     23/08/2024Entered/Renewed56,566Property Views  Daft ID: 918130769  \n",
       "20     22/08/2024Entered/Renewed28,626Property Views  Daft ID: 919264787  "
      ]
     },
     "execution_count": 44,
     "metadata": {},
     "output_type": "execute_result"
    }
   ],
   "source": [
    "daft_df"
   ]
  }
 ],
 "metadata": {
  "kernelspec": {
   "display_name": "Python 3",
   "language": "python",
   "name": "python3"
  },
  "language_info": {
   "codemirror_mode": {
    "name": "ipython",
    "version": 3
   },
   "file_extension": ".py",
   "mimetype": "text/x-python",
   "name": "python",
   "nbconvert_exporter": "python",
   "pygments_lexer": "ipython3",
   "version": "3.10.6"
  }
 },
 "nbformat": 4,
 "nbformat_minor": 2
}
